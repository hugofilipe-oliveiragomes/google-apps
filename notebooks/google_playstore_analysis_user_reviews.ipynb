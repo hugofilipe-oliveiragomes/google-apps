,App,Sentiment
0,10 Best Foods for You,Positive
1,104 找工作 - 找工作 找打工 找兼職 履歷健檢 履歷診療室,Positive
2,11st,Positive
3,1800 Contacts - Lens Store,Positive
4,1LINE - One Line with One Touch,Positive
5,2018Emoji Keyboard 😂 Emoticons Lite -sticker&gif,Positive
6,21-Day Meditation Experience,Positive
7,"2Date Dating App, Love and matching",Positive
8,2GIS: directory & navigator,Positive
9,2RedBeans,Positive
10,2ndLine - Second Phone Number,Positive
11,30 Day Fitness Challenge - Workout at Home,Positive
12,365Scores - Live Scores,Positive
13,3D Live Neon Weed Launcher,Positive
14,4 in a Row,Positive
15,4K Wallpapers and Ultra HD Backgrounds,Positive
16,591房屋交易-租屋、中古屋、新建案、實價登錄、別墅透天、公寓套房、捷運、買房賣房行情、房價房貸查詢,Neutral
17,591房屋交易-香港,Positive
18,7 Cups: Anxiety & Stress Chat,Positive
19,7 Day Food Journal Challenge,Positive
20,7 Minute Workout,Positive
21,7 Weeks - Habit & Goal Tracker,Positive
22,8 Ball Pool,Negative
23,850 Sports News Digest,Positive
24,8fit Workouts & Meal Planner,Positive
25,95Live -SG#1 Live Streaming App,Positive
26,A Call From Santa Claus!,Positive
27,A Word A Day,Positive
28,A&E - Watch Full Episodes of TV Shows,Positive
29,A+ Gallery - Photos & Videos,Positive
30,A+ Mobile,Positive
31,ABC Kids - Tracing & Phonics,Positive
32,ABC News - US & World News,Negative
33,ABC Preschool Free,Positive
34,ABCmouse.com,Positive
35,AC - Tips & News for Android™,Positive
36,ACE Elite,Positive
37,"AD - Nieuws, Sport, Regio & Entertainment",Positive
38,AMC Theatres,Positive
39,ANA,Negative
40,"AOL - News, Mail & Video",Positive
41,AP Mobile - Breaking News,Positive
42,APE Weather ( Live Forecast),Positive
43,"APUS Launcher - Theme, Wallpaper, Hide Apps",Positive
44,ARY NEWS,Positive
45,ARY NEWS URDU,Positive
46,ASOS,Positive
47,ASUS Calling Screen,Neutral
48,ASUS Cover for ZenFone 2,Positive
49,ASUS Quick Memo,Neutral
50,ASUS Sound Recorder,Positive
51,ASUS SuperNote,Positive
52,"AT&T Navigator: Maps, Traffic",Positive
53,AT&T Smart Wi-Fi,Positive
54,AT&T Visual Voicemail,Positive
55,"AVG Cleaner - Speed, Battery & Memory Booster",Positive
56,Abs Training-Burn belly fat,Positive
57,Account Manager,Negative
58,Accounting App - Zoho Books,Positive
59,AccuWeather: Daily Forecast & Live Weather Reports,Positive
60,Acorn TV: World-class TV from Britain and Beyond,Positive
61,Acorns - Invest Spare Change,Neutral
62,AdWords Express,Neutral
63,Ada - Your Health Guide,Positive
64,Add Text To Photo,Positive
65,Adobe Acrobat Reader,Positive
66,Adobe Photoshop Express:Photo Editor Collage Maker,Positive
67,Advanced Task Killer,Positive
68,Agar.io,Negative
69,Age Calculator,Positive
70,Agoda - Hotel Booking Deals,Positive
71,Air Traffic,Positive
72,AirAsia,Negative
73,AirBrush: Easy Photo Editor,Positive
74,Airbnb,Positive
75,Airport + Flight Tracker Radar,Positive
76,Airway Ex - Intubate. Anesthetize. Train.,Positive
77,Akinator,Positive
78,AlReader -any text book reader,Positive
79,Alarm Clock,Positive
80,Alarm Clock Free,Positive
81,Alfred Home Security Camera,Positive
82,"AliExpress - Smarter Shopping, Better Living",Positive
83,All Email Providers,Positive
84,All Events in City,Positive
85,All Football - Latest News & Videos,Positive
86,"All Football GO- Live Score, Games",Positive
87,All Language Translator Free,Positive
88,All Maths Formulas,Positive
89,All Mental disorders,Positive
90,All Social Networks,Negative
91,All Video Downloader 2018,Positive
92,"All-In-One Toolbox: Cleaner, Booster, App Manager",Positive
93,All-in-One Mahjong 3 FREE,Positive
94,Allegiant,Positive
95,Allrecipes Dinner Spinner,Positive
96,Alto's Adventure,Positive
97,Amazon Drive,Positive
98,"Amazon FreeTime - Kids’ Videos, Books, & TV shows",Positive
99,Amazon Kindle,Positive
100,Amazon Prime Video,Positive
101,Amazon Shopping,Positive
102,Amazon for Tablets,Positive
103,American Airlines,Positive
104,Amex Mobile,Positive
105,Amino: Communities and Chats,Positive
106,Amtrak,Negative
107,Anatomy Learning - 3D Atlas,Positive
108,Ancestry,Positive
109,AndroZip™ FREE File Manager,Positive
110,"Android Auto - Maps, Media, Messaging & Voice",Positive
111,Android Messages,Positive
112,Anger of stick 5 : zombie,Positive
113,Angry Birds 2,Positive
114,Angry Birds Classic,Negative
115,Angry Birds Rio,Negative
116,Animal Planet GO,Positive
117,Animated Photo Editor,Positive
118,Anime Avatar Creator: Make Your Own Avatar,Positive
119,Anime Manga Coloring Book,Positive
120,Anthem Anywhere,Negative
121,Anthem BC Anywhere,Negative
122,"Any.do: To-do list, Calendar, Reminders & Planner",Positive
123,Apartment Decorating Ideas,Positive
124,"Apartment List: Housing, Apt, and Property Rentals",Positive
125,"Apartment, Home Rental Search: Realtor.com Rentals",Positive
126,Apartments & Rentals - Zillow,Positive
127,Apartments.com Rental Search,Positive
128,Apex Launcher,Positive
129,Apk Installer,Positive
130,App vault,Negative
131,AppLock,Negative
132,AppLock - Fingerprint,Positive
133,Apple Daily 蘋果動新聞,Positive
134,Aprender inglés con Wlingua,Positive
135,Archos File Manager,Positive
136,Arrow.io,Positive
137,Asana: organize team projects,Positive
138,Ascape VR: 360° Virtual Travel,Positive
139,Asphalt 8: Airborne,Positive
140,Associated Credit Union Mobile,Positive
141,Asteroids 3D live wallpaper,Positive
142,Atlan3D Navigation: Korea navigator,Positive
143,AutoCAD - DWG Viewer & Editor,Positive
144,AutoScout24 Switzerland - Find your new car,Positive
145,Avakin Life - 3D virtual world,Positive
146,Aviary Effects: Classic,Positive
147,Aviary Stickers: Free Pack,Positive
148,Azar,Positive
149,Azpen eReader,Positive
150,B612 - Beauty & Filter Camera,Positive
151,BBC Media Player,Positive
152,BBC News,Positive
153,BBC Sport,Positive
154,BBM - Free Calls & Messages,Positive
155,BBVA Compass Banking,Positive
156,BBVA Spain,Positive
157,BBW Dating & Curvy Singles Chat- LargeFriends,Positive
158,BBW Dating & Plus Size Chat,Positive
159,BBWCupid - BBW Dating App,Positive
160,BELONG Beating Cancer Together,Positive
161,BEST CAR SOUNDS,Positive
162,BET NOW - Watch Shows,Neutral
163,BEYBLADE BURST app,Negative
164,BIG Launcher,Positive
165,BLK - Swipe. Match. Chat.,Positive
166,BZWBK24 mobile,Positive
167,BaBe - Baca Berita,Positive
168,BaBe Lite - Baca Berita Hemat Kuota,Positive
169,BaBe+ - Berita Indonesia,Positive
170,Babbel - Learn Languages,Positive
171,Babbel - Learn Spanish,Positive
172,Baby ABC in box! Kids alphabet games for toddlers!,Positive
173,Baby Monitor,Positive
174,Baby Name Together,Positive
175,Baby Panda Care,Positive
176,Baby Panda Learns Shapes,Positive
177,Baby Panda Musical Genius,Positive
178,Baby Panda’s Juice Shop,Positive
179,Baby Tiger Care - My Cute Virtual Pet Friend,Positive
180,Baby puzzles,Positive
181,"Baca- Berita Terbaru, Informasi, Gosip dan Politik",Positive
182,Backgrounds (HD Wallpapers),Positive
183,Backgrounds HD (Wallpapers),Positive
184,BaconReader for Reddit,Positive
185,Bad Piggies,Negative
186,Badoo - Free Chat & Dating App,Positive
187,Bagan - Myanmar Keyboard,Positive
188,Banco Itaú,Positive
189,Banco do Brasil,Positive
190,Bancomer móvil,Negative
191,Banfield Pet Health Tracker,Positive
192,Bangla Newspaper - Prothom Alo,Positive
193,Banjo,Positive
194,Bank of America Mobile Banking,Positive
195,BankMobile Vibe App,Positive
196,Banorte Movil,Positive
197,Banque Populaire,Negative
198,Barbie Life™,Positive
199,Barbie Magical Fashion,Positive
200,Barbie™ Fashion Closet,Positive
201,Barclays US for Android,Negative
202,Barcode Scanner,Positive
203,Baritastic - Bariatric Tracker,Positive
204,Baseball Boy!,Negative
205,Basketball FRVR - Shoot the Hoop and Slam Dunk!,Positive
206,Basketball Stars,Positive
207,Bathroom Decorating Ideas,Positive
208,Battlelands Royale,Positive
209,Be A Legend: Soccer,Negative
210,BeSoccer - Soccer Live Score,Positive
211,BeWild Free Dating & Chat App,Positive
212,Beautiful Design Birthday Cake,Positive
213,Beautiful Widgets Free,Positive
214,Beautiful Widgets Pro,Positive
215,Beauty Camera - Selfie Camera,Positive
216,Beauty Makeup Snappy Collage Photo Editor - Lidow,Positive
217,BeautyPlus - Easy Photo Editor & Selfie Camera,Neutral
218,Bed Time Fan - White Noise Sleep Sounds,Positive
219,Best Car Wallpapers,Negative
220,Best Fiends - Free Puzzle Game,Positive
221,Best Ovulation Tracker Fertility Calendar App Glow,Positive
222,"Best Wallpapers Backgrounds(100,000+ 4K HD)",Positive
223,Best Wallpapers QHD,Positive
224,"BestCam Selfie-selfie, beauty camera, photo editor",Neutral
225,BetterMe: Weight Loss Workouts,Positive
226,Betterment,Positive
227,BeyondMenu Food Delivery,Positive
228,BeyondPod Podcast Manager,Positive
229,Bible,Positive
230,Big Days - Events Countdown,Positive
231,"BigOven Recipes, Meal Planner, Grocery List & More",Positive
232,"BiggerCity: Chat for gay bears, chubs & chasers",Positive
233,Bike Computer - GPS Cycling Tracker,Positive
234,Binaural Beats Meditation,Positive
235,Binaural Beats Therapy,Positive
236,BioLife Plasma Services,Positive
237,Birdays - Birthday reminder,Positive
238,Birds Sounds Ringtones & Wallpapers,Positive
239,Black People Meet Singles Date,Positive
240,Block Puzzle,Positive
241,Block Puzzle Classic Legend !,Positive
242,Blogaway for Android (Blogger),Positive
243,Blogger,Positive
244,Bloglovin',Positive
245,Blood Donor,Positive
246,Blood Pressure,Positive
247,Blood Pressure Log - MyDiary,Positive
248,Blood Pressure(BP) Diary,Neutral
249,Bloomberg Professional,Positive
250,Bloomberg: Market & Financial News,Neutral
251,Blossom Blast Saga,Negative
252,BluTV,Positive
253,Blur Image Background,Positive
254,Blur Image Background Editor (Blur Photo Editor),Positive
255,Booking.com Travel Deals,Positive
256,Bowmasters,Positive
257,Box,Positive
258,Boxed Wholesale,Positive
259,Boys Photo Editor - Six Pack & Men's Suit,Positive
260,Brain Waves - Binaural Beats,Positive
261,Branch,Positive
262,Brasileirão Pro 2018 - Série A e B,Positive
263,"Breaking News, Local news, Attacks and Alerts Free",Positive
264,Brightest Flashlight Free ®,Positive
265,Brightest LED Flashlight,Positive
266,Brilliant,Positive
267,Brit + Co,Positive
268,British Airways,Positive
269,Browser 4G,Positive
270,Bualuang mBanking,Neutral
271,Bubble Shooter,Positive
272,Bubble Shooter 2,Positive
273,Bubble Shooter Genies,Positive
274,Bubble Shooter Space,Positive
275,Bubble Witch 3 Saga,Positive
276,Buienradar - weer,Positive
277,Build a Bridge!,Positive
278,Bukalapak - Jual Beli Online,Negative
279,BukuBayi - Perkembangan Bayi,Positive
280,Burner - Free Phone Number,Positive
281,Buscapé - Ofertas e descontos,Positive
282,Business Calendar 2,Positive
283,Butterfly Live Wallpaper,Positive
284,Buzz Launcher-Smart&Free Theme,Positive
285,"BuzzFeed: News, Tasty, Quizzes",Positive
286,"BÁO MỚI - Đọc Báo, Tin Tức 24h",Positive
287,C Programming,Positive
288,C++ Programming,Positive
289,C++ Tutorials,Positive
290,CAIXA,Negative
291,CALCU™ Stylish Calculator Free,Positive
292,CATS: Crash Arena Turbo Stars,Positive
293,CBS News,Neutral
294,"CBS Sports App - Scores, News, Stats & Watch Live",Positive
295,CBS Sports Fantasy,Positive
296,CDL Practice Test 2018 Edition,Positive
297,CIA - Caller ID & Call Blocker,Positive
298,"CM Browser - Ad Blocker , Fast Download , Privacy",Negative
299,"CM Flashlight (Compass, SOS)",Positive
300,"CM Launcher 3D - Theme, Wallpapers, Efficient",Positive
301,CM Locker - Security Lockscreen,Positive
302,CMB Free Dating App,Positive
303,CNBC: Breaking Business News & Live Market Data,Positive
304,CNN Breaking US & World News,Positive
305,COOKING MAMA Let's Cook!,Positive
306,CVS Caremark,Positive
307,CW Seed,Positive
308,CWT To Go,Positive
309,Cache Cleaner-DU Speed Booster (booster & cleaner),Positive
310,Caf - Mon Compte,Positive
311,"Calculator - free calculator, multi calculator app",Neutral
312,Calculator - unit converter,Positive
313,Calculator Plus Free,Positive
314,Calculator with Percent (Free),Neutral
315,Calendar Widget Month + Agenda,Neutral
316,Calendar+ Schedule Planner App,Positive
317,Call Blocker,Negative
318,Call Control - Call Blocker,Neutral
319,Call of Duty:Black Ops Zombies,Negative
320,"CallApp: Caller ID, Blocker & Phone Call Recorder",Positive
321,Caller ID +,Positive
322,Calls & Text by Mo+,Positive
323,Calls Blacklist - Call Blocker,Positive
324,"Calm - Meditate, Sleep, Relax",Positive
325,Calorie Counter & Diet Tracker,Positive
326,Calorie Counter - EasyFit free,Positive
327,Calorie Counter - Macros,Positive
328,Calorie Counter - MyFitnessPal,Positive
329,Calorie Counter - MyNetDiary,Positive
330,Cameringo Lite. Filters Camera,Positive
331,Candy Bomb,Positive
332,"Candy Camera - selfie, beauty camera, photo editor",Positive
333,Candy Crush Jelly Saga,Negative
334,Candy Crush Saga,Negative
335,Candy Crush Soda Saga,Negative
336,Candy Day,Positive
337,Candy Pop Story,Positive
338,Candy Smash,Positive
339,"Candy selfie - photo editor, live filter camera",Positive
340,"Canva: Poster, banner, card maker & graphic design",Positive
341,Canvas Student,Positive
342,Cat Sim Online: Play with Cats,Positive
343,Caviar - Food Delivery,Positive
344,Chakra Cleansing,Positive
345,Championat,Positive
346,Chapters: Interactive Stories,Positive
347,Chase Mobile,Positive
348,"Chat Rooms, Avatars, Date - Galaxy",Positive
349,ChatVideo Meet new people,Positive
350,Cheap Flights & Hotels momondo,Positive
351,Cheap hotel deals and discounts — Hotellook,Positive
352,"CheapTickets - Hotels, Flights & Travel Deals",Positive
353,Cheapflights - Flight Search,Positive
354,CheckPoints 🏆 Rewards App,Positive
355,Checkers ✔️,Positive
356,Checkout 51: Grocery coupons,Positive
357,Choice Hotels,Positive
358,Choices: Stories You Play,Positive
359,Christian Dating For Free App,Positive
360,Chrome Beta,Positive
361,Chrome Dev,Positive
362,Cinemark Theatres,Positive
363,Cisco Webex Meetings,Positive
364,Cisco Webex Teams,Positive
365,Citi Mobile®,Positive
366,Citibanamex Movil,Positive
367,Citizens Bank Mobile Banking,Negative
368,CityMaps2Go Plan Trips Travel Guide Offline Maps,Positive
369,Claro,Neutral
370,Clash Royale,Positive
371,Clash of Clans,Positive
372,Color Flashlight,Positive
373,Color Road,Negative
374,Color Touch Effects,Positive
375,Color by Number - Draw Sandbox Pixel Art,Positive
376,Color by Number - New Coloring Book,Positive
377,ColorFil - Adult Coloring Book,Positive
378,ColorNote Notepad Notes,Positive
379,ColorSnap® Visualizer,Neutral
380,Colorfit - Drawing & Coloring,Positive
381,Colorful Glitter Neon Butterfly Keyboard Theme,Positive
382,Colorfy: Coloring Book for Adults - Free,Positive
383,Coloring & Learn,Positive
384,Coloring book moana,Positive
385,Comedy Central,Positive
386,Common Core,Negative
387,Comptia A+ 220-901 & 220-902,Positive
388,ConnectLine,Positive
389,Contacts,Positive
390,Contacts+,Positive
391,Content Transfer,Positive
392,ConvertPad - Unit Converter,Positive
393,Cookbook Recipes,Positive
394,Cooking Channel,Positive
395,Cooking Fever,Negative
396,Cooking Madness - A Chef's Restaurant Games,Positive
397,Cookpad,Positive
398,Cool Popular Ringtones 2018 🔥,Positive
399,Cool Reader,Positive
400,Couch to 10K Running Trainer,Positive
401,Couch to 5K by RunDouble,Positive
402,Couchsurfing Travel App,Positive
403,Cougar Dating Life : Date Older Women Sugar Mummy,Positive
404,Couple - Relationship App,Positive
405,Credit Karma,Positive
406,Credit Sesame,Positive
407,CreditWise from Capital One,Positive
408,Crew - Free Messaging and Scheduling,Positive
409,Cricbuzz - Live Cricket Scores & News,Positive
410,Cricket Visual Voicemail,Positive
411,Crossy Road,Positive
412,Crunchyroll - Everything Anime,Positive
413,Current debit card and app made for teens,Positive
414,Curriculum vitae App CV Builder Free Resume Maker,Positive
415,Curso de Ingles Gratis,Positive
416,Cut the Rope 2,Positive
417,Cut the Rope FULL FREE,Negative
418,Cycling - Bike Tracker,Positive
419,"Cymera Camera- Photo Editor, Filter,Collage,Layout",Positive
420,Czech Public Transport IDOS,Positive
421,DC Comics,Positive
422,DC Super Hero Girls™,Positive
423,DEAD TARGET: FPS Zombie Apocalypse Survival Games,Positive
424,DEER HUNTER 2018,Negative
425,DELISH KITCHEN - 無料レシピ動画で料理を楽しく・簡単に！,Positive
426,DINO HUNTER: DEADLY SHORES,Positive
427,DIY Garden Ideas,Positive
428,DIY On A Budget,Positive
429,DMV Permit Practice Test 2018 Edition,Positive
430,DRAGON BALL LEGENDS,Positive
431,DSLR Camera Hd Ultra Professional,Positive
432,DStv Now,Positive
433,DU Browser—Browse fast & fun,Positive
434,"DU Recorder - Screen Recorder, Video Editor, Live",Positive
435,Daily Workouts - Exercise Fitness Routine Trainer,Positive
436,Daily Yoga - Yoga Fitness Plans,Positive
437,"Dailyhunt (Newshunt) - Latest News, Viral Videos",Negative
438,Dairy Queen,Positive
439,Daniel Tiger for Parents,Positive
440,DashClock Widget,Positive
441,Dashlane Free Password Manager,Negative
442,"Dating App, Flirt & Chat : W-Match",Neutral
443,Dating for 50 plus Mature Singles - FINALLY,Positive
444,Daum Mail - 다음 메일,Positive
445,Davis's Drug Guide,Negative
446,Davis's Drug Guide for Nurses,Positive
447,Debonairs Pizza,Positive
448,"Delivery Club-Доставка еды:пицца,суши,бургер,салат",Positive
449,Delta Dental,Negative
450,Despegar.com Hoteles y Vuelos,Positive
451,Detector de Radares Gratis,Positive
452,Device Help,Positive
453,Diabetes & Diet Tracker,Positive
454,Diabetes:M,Positive
455,Diamond Zipper Lock Screen,Positive
456,Diary with lock,Positive
457,Diary with lock password,Positive
458,Dictionary - Merriam-Webster,Positive
459,Die TK-App - alles im Griff,Positive
460,Digg,Positive
461,DigiCal Calendar Agenda,Positive
462,Digit Save Money Automatically,Positive
463,Digital Alarm Clock,Positive
464,Dil Mil,Positive
465,Dino War: Rise of Beasts,Positive
466,Dinosaur Simulator: Dino World,Negative
467,Discover Mobile,Negative
468,Disney Heroes: Battle Mode,Negative
469,Disney Magic Kingdoms: Build Your Own Magical Park,Positive
470,DisneyNOW - TV Shows & Games,Positive
471,Divar,Positive
472,Do It Later: Tasks & To-Dos,Positive
473,Docs To Go™ Free Office Suite,Positive
474,Doctor On Demand,Positive
475,Doctor Pets,Positive
476,Dog Licks Screen Wallpaper,Positive
477,Dog Run - Pet Dog Simulator,Positive
478,Dog Sim Online: Raise a Family,Negative
479,Domino's Pizza USA,Positive
480,Dominos Game ✔️,Positive
481,"Domofond Недвижимость. Купить, снять квартиру.",Positive
482,Doodle Jump,Positive
483,Door Lock Screen,Positive
484,DoorDash - Food Delivery,Positive
485,Dosecast - Medication Reminder,Positive
486,Down Dog: Great Yoga Anywhere,Positive
487,Dr. Oetker Rezeptideen,Positive
488,Dr. Panda & Toto's Treehouse,Positive
489,Dr. Panda Restaurant 3,Positive
490,Dr. Panda Town: Vacation,Positive
491,DraftKings - Daily Fantasy Sports,Positive
492,Dragon Hills,Positive
493,Draw A Stickman,Negative
494,Draw In,Negative
495,Draw Your Game,Negative
496,Draw a Stickman: EPIC 2,Positive
497,Drawing for Kids Learning Games for Toddlers age 3,Positive
498,Dream League Soccer 2018,Positive
499,DreamTrips,Positive
500,DreamWorks Friends,Positive
501,Dresses Ideas & Fashions +3000,Positive
502,Droid Zap by Motorola,Negative
503,DroidAdmin for Android - Advice,Positive
504,Dropbox,Positive
505,Drugs.com Medication Guide,Positive
506,Dude Perfect 2,Positive
507,Dumb Ways to Die 2: The Games,Positive
508,Dungeon Hunter Champions: Epic Online Action RPG,Positive
509,Dunkin' Donuts,Positive
510,Duolingo: Learn Languages Free,Positive
511,DuraSpeed,Neutral
512,E*TRADE Mobile,Positive
513,"Easy - taxi, car, ridesharing",Positive
514,Easy Hair Style Design,Positive
515,Easy Healthy Recipes,Positive
516,Easy Installer - Apps On SD,Neutral
517,Easy Makeup Tutorials,Positive
518,Easy Origami Ideas,Positive
519,Easy Recipes,Positive
520,Easy Voice Recorder,Positive
521,EasyBib: Citation Generator,Positive
522,Eat Fit - Diet and Health Free,Positive
523,Eat24 Food Delivery & Takeout,Positive
524,EatStreet Food Delivery App,Positive
525,"Ebates: Cash Back, Coupons, Rewards & Savings",Positive
526,Ebook Reader,Positive
527,Ecobank Mobile Banking,Negative
528,Edmodo,Positive
529,Educational Games 4 Kids,Positive
530,Educational Games for Kids,Positive
531,El tiempo de AEMET,Positive
532,English with Lingualeo,Positive
533,English-Myanmar Dictionary,Positive
534,Entel,Neutral
535,Enterprise Rent-A-Car,Positive
536,Episode - Choose Your Story,Positive
537,Epocrates Plus,Positive
538,Equestria Girls,Positive
539,Essential Anatomy 3,Positive
540,Essential Resources,Positive
541,Etsy: Handmade & Vintage Goods,Positive
542,Etta Homes,Positive
543,Eurosport,Positive
544,"Eve Period Tracker - Love, Sex & Relationships App",Positive
545,"Even - organize your money, get paid early",Positive
546,"Evernote - Organizer, Planner for Notes & Memos",Positive
547,Evie Launcher,Positive
548,ExDialer - Dialer & Contacts,Positive
549,"Expedia Hotels, Flights & Car Rental Travel Deals",Positive
550,Expense IQ Money Manager,Positive
551,Experian - Free Credit Report,Positive
552,Extreme Car Driving Simulator,Negative
553,Extreme Coupon Finder,Positive
554,Extreme Match,Positive
555,Extreme Racing 2 - Real driving RC cars game!,Positive
556,EyeCloud,Positive
557,EyeEm - Camera & Photo Filter,Positive
558,EzCalculator,Positive
559,FBReader: Favorite Book Reader,Positive
560,FERZU - Furries Social Network,Positive
561,"FIFA - Tournaments, Soccer News & Live Scores",Positive
562,FINAL FANTASY BRAVE EXVIUS,Positive
563,FOSSIL Q: DESIGN YOUR DIAL,Neutral
564,FOX,Positive
565,FOX NOW - On Demand & Live TV,Positive
566,"FOX Sports: Live Streaming, Scores & News",Positive
567,FREEDOME VPN Unlimited anonymous Wifi Security,Neutral
568,"FUN Keyboard - Emoji Keyboard, Sticker,Theme & GIF",Positive
569,"Fabulous: Motivate Me! Meditate, Relax, Sleep",Positive
570,"Face Filter, Selfie Editor - Sweet Camera",Positive
571,Facebook,Negative
572,Facebook Ads Manager,Positive
573,Facebook Lite,Negative
574,Facebook Local,Positive
575,Facebook Pages Manager,Negative
576,Facetune - Ad Free,Positive
577,Fake Call - Fake Caller ID,Positive
578,Fallout Shelter,Positive
579,Family Album Mitene: Private Photo & Video Sharing,Positive
580,Family Dollar,Positive
581,Family GPS Tracker and Chat + Baby Monitor Online,Positive
582,Family GPS tracker KidControl + GPS by SMS Locator,Positive
583,Family Locator - GPS Tracker,Positive
584,FamilySearch Tree,Positive
585,FanDuel: Daily Fantasy Sports,Positive
586,Fancy Widgets,Positive
587,Fandango Movies - Times + Tickets,Positive
588,Fantasy Football,Positive
589,Fantasy Football & NFL News,Positive
590,Fantasy Football Manager (FPL),Positive
591,Farm Fruit Pop: Party Time,Positive
592,Farm Heroes Saga,Positive
593,Farming Simulator 14,Positive
594,Farming Simulator 18,Positive
595,Fashion in Vogue,Positive
596,Fast News,Positive
597,Fast Scanner : Free PDF Scan,Positive
598,Fast Secure VPN,Positive
599,"FastMeet: Chat, Dating, Love",Positive
600,Fat Burning Workout - Home Weight lose,Positive
601,Fate/Grand Order (English),Positive
602,FidMe Loyalty Cards & Deals at Grocery Supermarket,Positive
603,File Browser by Astro (File Manager),Positive
604,File Explorer,Positive
605,File Manager,Neutral
606,File Manager -- Take Command of Your Files Easily,Neutral
607,Files Go by Google: Free up space on your phone,Positive
608,FilterGrid - Cam&Photo Editor,Positive
609,Filters for B Live,Neutral
610,Filters for Selfie,Positive
611,Final Fantasy XV: A New Empire,Negative
612,Financial Times,Positive
613,Find Dining Restaurant Finder,Positive
614,Find a Way: Addictive Puzzle,Positive
615,Find&Save - Local Shopping,Positive
616,FindShip,Positive
617,Firefox Browser fast & private,Positive
618,Firefox Focus: The privacy browser,Positive
619,Fishdom,Positive
620,Fitbit,Positive
621,Flashlight,Positive
622,Flashlight & LED Torch,Neutral
623,Flashlight - Torch LED Light,Positive
624,Flashlight HD LED,Positive
625,Flickr,Positive
626,Flight & Hotel Booking App - ixigo,Positive
627,Flightradar24 Flight Tracker,Positive
628,Flights,Positive
629,Flip the Gun - Simulator Game,Positive
630,FlipaClip - Cartoon animation,Positive
631,Flipboard: News For Our Time,Positive
632,Flipkart Online Shopping App,Positive
633,Flipp - Weekly Shopping,Positive
634,Flippy Campus - Buy & sell on campus at a discount,Positive
635,FlirtChat - ♥Free Dating/Flirting App♥,Positive
636,Floor Plan Creator,Positive
637,Flow Free,Positive
638,Flowers Live Wallpaper,Positive
639,Fly Delta,Positive
640,FollowMyHealth®,Positive
641,Font Studio- Photo Texts Image,Positive
642,Food Calorie Calculator,Neutral
643,Food Network,Positive
644,Fooducate Healthy Weight Loss & Calorie Counter,Positive
645,"Foot Mercato : transferts, résultats, news, live",Positive
646,Football Live Scores,Positive
647,ForecaWeather,Positive
648,Fortune City - A Finance App,Positive
649,Four In A Line,Positive
650,Four In A Line Free,Positive
651,Foursquare City Guide,Positive
652,Foursquare Swarm: Check In,Negative
653,Fox Business,Positive
654,"Fox News - Breaking News, Live Video & News Alerts",Positive
655,Fraction Calculator Plus Free,Positive
656,Free & Premium VPN - FinchVPN,Positive
657,Free Dating & Flirt Chat - Choice of Love,Neutral
658,Free Dating App & Flirt Chat - Cheers,Positive
659,Free Dating App & Flirt Chat - Match with Singles,Positive
660,Free Dating App - Meet Local Singles - Flirt Chat,Negative
661,"Free Dating App - YoCutie - Flirt, Chat & Meet",Positive
662,Free Dating Hook Up Messenger,Positive
663,Free Foreclosure Real Estate Search by USHUD.com,Negative
664,Free Hypnosis,Positive
665,Free Live Talk-Video Call,Negative
666,Free Panda Radio Music,Neutral
667,Free Sports TV,Positive
668,"Free TV Shows App:News, TV Series, Episode, Movies",Positive
669,Free VIN Report for Used Cars,Positive
670,Free live weather on screen,Positive
671,"Free phone calls, free texting SMS on free number",Positive
672,FreePrints - Free Photos Delivered,Positive
673,Freeletics: Personal Trainer & Fitness Workouts,Positive
674,Freeme Launcher—Stylish Theme,Positive
675,Fresh EBT - Food Stamp Balance,Positive
676,FreshBooks Classic,Positive
677,Frontback - Social Photos,Positive
678,Frozen Free Fall,Positive
679,Fruit Block - Puzzle Legend,Negative
680,Fruit Ninja®,Positive
681,Fruits Bomb,Positive
682,Fuelio: Gas log & costs,Positive
683,Full Screen Caller ID,Positive
684,Fun Kid Racing,Positive
685,Fun Kid Racing - Motocross,Positive
686,Funny Alarm Clock Ringtones,Positive
687,Funny Pics,Positive
688,Fuzzy Seasons: Animal Forest,Positive
689,G Cloud Backup,Positive
690,GANMA! - オリジナル漫画が全話無料で読み放題,Positive
691,"GCash - Buy Load, Pay Bills, Send Money",Neutral
692,GMAT Math Flashcards,Positive
693,GMAT Question Bank,Positive
694,GMX Mail,Positive
695,"GO Keyboard - Cute Emojis, Themes and GIFs",Positive
696,"GO Keyboard - Emoticon keyboard, Free Theme, GIF",Positive
697,GO Notifier,Positive
698,"GO SMS Pro - Messenger, Free Themes, Emoji",Positive
699,"GO Weather - Widget, Theme, Wallpaper, Efficient",Positive
700,GPS Map Free,Positive
701,GPS Speedometer and Odometer,Positive
702,"GPS Speedometer, Distance Meter",Positive
703,GPS Status & Toolbox,Positive
704,GPS Traffic Speedcam Route Planner by ViaMichelin,Positive
705,GRE Flashcards,Positive
706,GRE Prep & Practice by Magoosh,Positive
707,GRE Tutor,Positive
708,GS SHOP,Positive
709,GUNSHIP BATTLE: Helicopter 3D,Positive
710,Galactic Core Free Wallpaper,Positive
711,Galaxy Attack: Alien Shooter,Positive
712,Game of Thrones: Conquest™,Positive
713,"Gametime - Tickets to Sports, Concerts, Theater",Positive
714,Garden Coloring Book,Positive
715,Garden Fruit Legend,Positive
716,Garden Photo Frames - Garden Photo Editor,Positive
717,Gardenscapes,Positive
718,Garena Free Fire,Positive
719,Garmin Connect™,Positive
720,GasBuddy: Find Cheap Gas,Positive
721,Gay Sugar Daddy Dating & Hookup - Sudy Gay,Positive
722,Gboard - the Google Keyboard,Positive
723,Gems or jewels ?,Positive
724,Genius Scan - PDF Scanner,Positive
725,Gmail,Positive
726,GoBank,Positive
727,GoPro (formerly Capture),Negative
728,Goal Live Scores,Positive
729,Goibibo - Flight Hotel Bus Car IRCTC Booking App,Positive
730,Goku Wallpaper Art,Positive
731,Gold Butterfly Keyboard Theme,Positive
732,Golden Dictionary (EN-AR),Positive
733,Golden Launcher,Positive
734,Goldstar: Live Event Tickets,Positive
735,Golf Channel,Negative
736,Golf GPS Rangefinder: Golf Pad,Positive
737,Golf GPS by SwingxSwing,Positive
738,GolfLogix GPS + Putt Breaks,Negative
739,"GolfNow: Tee Time Deals at Golf Courses, Golf GPS",Positive
740,Golfshot Plus: Golf GPS,Positive
741,Golfshot: Golf GPS + Tee Times,Positive
742,GoodRx Drug Prices and Coupons,Positive
743,Google,Positive
744,Google Ads,Positive
745,Google Duo - High Quality Video Calls,Positive
746,Google Earth,Positive
747,Google Fit - Fitness Tracking,Positive
748,Google Handwriting Input,Positive
749,Google Keep,Positive
750,Google My Business,Positive
751,Google News,Positive
752,Google PDF Viewer,Positive
753,Google Pay,Positive
754,Google Photos,Positive
755,Google Primer,Positive
756,Google Slides,Positive
757,Google Street View,Negative
758,Google Translate,Positive
759,Google Trips - Travel Planner,Positive
760,Google Voice,Neutral
761,Google+,Positive
762,Granny,Positive
763,Graphing Calculator,Positive
764,Grim Soul: Dark Fantasy Survival,Positive
765,Groovebook Photo Books & Gifts,Positive
766,GroupMe,Positive
767,"Groupon - Shop Deals, Discounts & Coupons",Positive
768,Grubhub: Food Delivery,Positive
769,Guns of Glory,Negative
770,Gyft - Mobile Gift Card Wallet,Positive
771,H Pack,Positive
772,H TV,Positive
773,H&M,Positive
774,HBO GO: Stream with TV Package,Negative
775,HD Camera,Neutral
776,HD Camera - Best Cam with filters & panorama,Positive
777,HD Camera - Quick Snap Photo & Video,Positive
778,HD Camera Pro for Android,Positive
779,HD Camera Ultra,Positive
780,HD Camera for Android,Positive
781,HD Movie Video Player,Positive
782,HD Video Player,Positive
783,HD Widgets,Positive
784,HDFC Bank MobileBanking,Positive
785,HESI A2 Pocket Prep,Positive
786,HISTORY: Watch TV Show Full Episodes & Specials,Positive
787,HTC Calendar,Negative
788,HTC File Manager,Neutral
789,HTC Gallery,Positive
790,HTC Help,Positive
791,HTC Lock Screen,Negative
792,HTC Mail,Positive
793,HTC Sense Input,Positive
794,HTC Sense Input-AR,Positive
795,HTC Service － DLNA,Positive
796,HTC Service—Video Player,Positive
797,HTC Social Plugin - Facebook,Negative
798,HTC Speak,Positive
799,HTC Weather,Positive
800,Hacker's Keyboard,Positive
801,Hairstyles step by step,Positive
802,Hamilton — The Official App,Positive
803,Hangouts,Positive
804,Happify,Positive
805,Happy Birthday Songs Offline,Positive
806,Happy Fruits Bomb - Cube Blast,Positive
807,Happy Street,Positive
808,Harkins Theatres,Positive
809,Harry Potter: Hogwarts Mystery,Positive
810,HauteLook,Positive
811,Hay Day,Positive
812,Haystack TV: Local & World News - Free,Positive
813,Headspace: Meditation & Mindfulness,Positive
814,Health and Nutrition Guide,Positive
815,HealtheLife,Neutral
816,Healthy Recipes Free,Positive
817,Helix Jump,Positive
818,Hello Kitty Lunchbox,Positive
819,Hello Kitty Nail Salon,Positive
820,Hello Stars,Positive
821,"HelloTalk — Chat, Speak & Learn Foreign Languages",Positive
822,Hero Hunters,Positive
823,"Herpes Dating: 1,000K+ Singles",Positive
824,Herpes Positive Singles Dating,Positive
825,"Hide App, Private Dating, Safe Chat - PrivacyHider",Negative
826,"Hide Something - Photo, Video",Positive
827,Hideman VPN,Positive
828,High Blood Pressure Symptoms,Positive
829,High-Powered Flashlight,Positive
830,"High-Speed Camera (GIF,Burst)",Positive
831,Hill Climb Racing,Positive
832,Hill Climb Racing 2,Positive
833,"Hily: Dating, Chat, Match, Meet & Hook up",Positive
834,Hinge: Dating & Relationships,Positive
835,HipChat - Chat Built for Teams,Negative
836,Hipmunk Hotels & Flights,Positive
837,Hitwe - meet people and chat,Negative
838,"Hole19: Golf GPS App, Rangefinder & Scorecard",Positive
839,Home Decor Showpiece Art making: Medium Difficulty,Positive
840,Home Scouting® MLS Mobile,Positive
841,Home Security Camera WardenCam - reuse old phones,Positive
842,Home Street - Home Design Game,Positive
843,Home Workout - No Equipment,Positive
844,Home Workout for Men - Bodybuilding,Positive
845,"Home workouts - fat burning, abs, legs, arms,chest",Positive
846,HomeWork,Positive
847,"Homes.com 🏠 For Sale, Rent",Positive
848,Homescapes,Positive
849,Homesnap Real Estate & Rentals,Positive
850,Homestyler Interior Design & Decorating Ideas,Positive
851,Homework Planner,Positive
852,Honkai Impact 3rd,Positive
853,Hopper - Watch & Book Flights,Positive
854,Horoscopes - Daily Zodiac Horoscope and Astrology,Positive
855,Horses Live Wallpaper,Positive
856,Hostelworld: Hostels & Cheap Hotels Travel App,Positive
857,Hot Wheels: Race Off,Positive
858,HotelTonight: Book amazing deals at great hotels,Positive
859,Hotels Combined - Cheap deals,Positive
860,Hotels.com: Book Hotel Rooms & Find Vacation Deals,Positive
861,Hotspot Shield Free VPN Proxy & Wi-Fi Security,Positive
862,Hotstar,Negative
863,Hotwire Hotel & Car Rental App,Positive
864,Housing-Real Estate & Property,Negative
